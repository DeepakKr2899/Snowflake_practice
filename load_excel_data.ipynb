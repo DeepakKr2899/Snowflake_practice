{
 "cells": [
  {
   "cell_type": "code",
   "execution_count": 1,
   "metadata": {},
   "outputs": [
    {
     "name": "stdout",
     "output_type": "stream",
     "text": [
      "  Agent ID             Agent Name               MID  \\\n",
      "0  CMS0101  CMS0101 - AbcPayments  4223699195000980   \n",
      "1  CMS0101  CMS0101 - AbcPayments  4223699140000184   \n",
      "2  CMS0101  CMS0101 - AbcPayments  4223698333000019   \n",
      "3  CMS0101  CMS0101 - AbcPayments  4223699140000028   \n",
      "4  CMS0101  CMS0101 - AbcPayments  4223699140000002   \n",
      "5  CMS0101  CMS0101 - AbcPayments  4223699140000010   \n",
      "6  CMS0101  CMS0101 - AbcPayments  4223699140000044   \n",
      "7  CMS0101  CMS0101 - AbcPayments  4223699140000051   \n",
      "8  CMS0101  CMS0101 - AbcPayments  4223699140000069   \n",
      "9  CMS0101  CMS0101 - AbcPayments  4223699140000077   \n",
      "\n",
      "               Merchant Name         Processor Date Approved Status  SIC Code  \\\n",
      "0                        Abc  CMS PS OMAHA NEW    2015-02-01   Open       NaN   \n",
      "1  Change Merchant Solutions  CMS PS OMAHA NEW    2015-06-04   Open    1234.0   \n",
      "2            Dakota Shy Wine  CMS PS OMAHA NEW    2015-06-11   Open       NaN   \n",
      "3        Cave Ridge Vineyard  CMS PS OMAHA NEW    2015-06-22   Open       NaN   \n",
      "4     Firehouse Wine Cellars  CMS PS OMAHA NEW    2015-06-22   Open       NaN   \n",
      "5   Larner Vineyard & Winery  CMS PS OMAHA NEW    2015-06-22   Open       NaN   \n",
      "6       Peachy Canyon Winery  CMS PS OMAHA NEW    2015-06-30   Open    7991.0   \n",
      "7       Cliff Lede Vineyards  CMS PS OMAHA NEW    2015-07-01   Open    7991.0   \n",
      "8             Flanagan Wines  CMS PS OMAHA NEW    2015-07-08   Open       NaN   \n",
      "9        Cornerstone Cellars  CMS PS OMAHA NEW    2015-07-09   Open    7991.0   \n",
      "\n",
      "        Income    Expense  ...  AVS Income  AVS Expense  Chargeback Count  \\\n",
      "0   15150.6085   14564.44  ...        0.00         0.00                 0   \n",
      "1      22.4400      14.21  ...        0.05         0.01                 0   \n",
      "2  122004.4600  116692.04  ...        0.00         0.00                 0   \n",
      "3     940.3800     709.65  ...        4.60         0.14                 0   \n",
      "4    1854.0100    1660.95  ...       26.00         0.67                 0   \n",
      "5    2063.6200    1742.87  ...       20.45         0.54                 0   \n",
      "6    1980.2100    1729.39  ...        8.35         0.23                 0   \n",
      "7   11071.2800    9925.35  ...       36.60         0.93                 0   \n",
      "8    3538.5700    2994.97  ...        9.10         0.24                 0   \n",
      "9    4229.9600    3526.13  ...       13.80         0.37                 0   \n",
      "\n",
      "   Chargeback Income  Chargeback Expense  Retrieval Count  Retrieval Income  \\\n",
      "0                0.0                0.00                0                 0   \n",
      "1                0.0                0.00                0                 0   \n",
      "2                0.0                0.00                0                 0   \n",
      "3                0.0                0.00                0                 0   \n",
      "4                0.0                0.00                0                 0   \n",
      "5                0.0                0.00                0                 0   \n",
      "6               35.0                6.73                0                 0   \n",
      "7                0.0                0.00                0                 0   \n",
      "8                0.0                0.00                0                 0   \n",
      "9                0.0                0.00                0                 0   \n",
      "\n",
      "   Retrieval Expense  PCI Income  PCI Expense  \n",
      "0                  0       14.95         7.48  \n",
      "1                  0       14.95         7.48  \n",
      "2                  0       14.95         7.48  \n",
      "3                  0       14.95         7.48  \n",
      "4                  0       14.95         7.48  \n",
      "5                  0       14.95         7.48  \n",
      "6                  0       14.95         7.48  \n",
      "7                  0       14.95         7.48  \n",
      "8                  0       14.95         7.48  \n",
      "9                  0       14.95         7.48  \n",
      "\n",
      "[10 rows x 105 columns]\n"
     ]
    },
    {
     "ename": "ModuleNotFoundError",
     "evalue": "No module named 'snowflake.connector'; 'snowflake' is not a package",
     "output_type": "error",
     "traceback": [
      "\u001b[1;31m---------------------------------------------------------------------------\u001b[0m",
      "\u001b[1;31mModuleNotFoundError\u001b[0m                       Traceback (most recent call last)",
      "\u001b[1;32md:\\python_file\\load_excel_data.ipynb Cell 1\u001b[0m line \u001b[0;36m1\n\u001b[1;32m----> <a href='vscode-notebook-cell:/d%3A/python_file/load_excel_data.ipynb#W1sZmlsZQ%3D%3D?line=0'>1</a>\u001b[0m \u001b[39mimport\u001b[39;00m \u001b[39msnowflake\u001b[39;00m\u001b[39m.\u001b[39;00m\u001b[39mconnector\u001b[39;00m\n\u001b[0;32m      <a href='vscode-notebook-cell:/d%3A/python_file/load_excel_data.ipynb#W1sZmlsZQ%3D%3D?line=1'>2</a>\u001b[0m \u001b[39mfrom\u001b[39;00m \u001b[39msnowflake\u001b[39;00m\u001b[39m.\u001b[39;00m\u001b[39mconnector\u001b[39;00m\u001b[39m.\u001b[39;00m\u001b[39mpandas_tools\u001b[39;00m \u001b[39mimport\u001b[39;00m write_pandas\n\u001b[0;32m      <a href='vscode-notebook-cell:/d%3A/python_file/load_excel_data.ipynb#W1sZmlsZQ%3D%3D?line=2'>3</a>\u001b[0m \u001b[39mimport\u001b[39;00m \u001b[39mpandas\u001b[39;00m \u001b[39mas\u001b[39;00m \u001b[39mpd\u001b[39;00m\n",
      "\u001b[1;31mModuleNotFoundError\u001b[0m: No module named 'snowflake.connector'; 'snowflake' is not a package"
     ]
    }
   ],
   "source": [
    "import snowflake.connector\n",
    "from snowflake.connector.pandas_tools import write_pandas\n",
    "import pandas as pd"
   ]
  },
  {
   "cell_type": "code",
   "execution_count": null,
   "metadata": {},
   "outputs": [],
   "source": [
    "file=\"CMS File April 23 Payout Detail (February Actuals).xlsx\"\n",
    "sheet=\"Payment Details\"\n",
    "df=pd.read_excel(io=file,sheet_name=sheet,skiprows=2,skipfooter=2)\n",
    "print(df.head(10))"
   ]
  }
 ],
 "metadata": {
  "kernelspec": {
   "display_name": "Python 3",
   "language": "python",
   "name": "python3"
  },
  "language_info": {
   "codemirror_mode": {
    "name": "ipython",
    "version": 3
   },
   "file_extension": ".py",
   "mimetype": "text/x-python",
   "name": "python",
   "nbconvert_exporter": "python",
   "pygments_lexer": "ipython3",
   "version": "3.8.10"
  }
 },
 "nbformat": 4,
 "nbformat_minor": 2
}
